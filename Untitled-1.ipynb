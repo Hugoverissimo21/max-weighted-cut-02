{
 "cells": [
  {
   "cell_type": "code",
   "execution_count": 7,
   "metadata": {},
   "outputs": [],
   "source": [
    "import networkx as nx"
   ]
  },
  {
   "cell_type": "markdown",
   "metadata": {},
   "source": [
    "# funcoes para ler grafos"
   ]
  },
  {
   "cell_type": "code",
   "execution_count": 8,
   "metadata": {},
   "outputs": [],
   "source": [
    "def adjacency_matrix_to_edges(matrix):\n",
    "    edges = []\n",
    "    n = len(matrix)  # assuming matrix is square\n",
    "    for u in range(n):\n",
    "        for v in range(u, n):\n",
    "            if matrix[u][v] != 0:  # assuming 0 means no edge\n",
    "                edges.append((u, v, matrix[u][v]))\n",
    "    return edges\n",
    "\n",
    "#G = nx.adjacency_matrix(nx.read_graphml(f\"graphs/0005_500.graphml\")).todense()\n",
    "#adjacency_matrix_to_edges(G)"
   ]
  },
  {
   "cell_type": "code",
   "execution_count": 9,
   "metadata": {},
   "outputs": [],
   "source": [
    "def edges_from_Bgraph(filename):\n",
    "    edges = []\n",
    "    with open(filename, 'r') as file:\n",
    "        # Skip the first line\n",
    "        if \"gset\" in filename:\n",
    "            n_nodes, n_edges = file.readline().split()\n",
    "            n_nodes, n_edges = int(n_nodes), int(n_edges)\n",
    "        else:\n",
    "            file.readline()\n",
    "            file.readline()\n",
    "            n_nodes = int(file.readline().split()[0])\n",
    "            n_edges = int(file.readline().split()[0])\n",
    "        for line in file:\n",
    "            # Split each line into components and convert to appropriate types\n",
    "            node1, node2, weight = line.split()\n",
    "            edges.append((int(node1)-1, int(node2)-1, float(weight)))\n",
    "    return edges, n_nodes, n_edges\n",
    "\n",
    "#path = \"\"\"graphs (gset)/G59.txt\"\"\"\n",
    "#edges_from_Bgraph(path)\n"
   ]
  },
  {
   "cell_type": "markdown",
   "metadata": {},
   "source": [
    "# algorimos"
   ]
  },
  {
   "cell_type": "code",
   "execution_count": null,
   "metadata": {},
   "outputs": [],
   "source": [
    "# ...\n",
    "\n",
    "# S, T, weight, SOLTESTED, OPSEXEC"
   ]
  },
  {
   "cell_type": "markdown",
   "metadata": {},
   "source": [
    "# benchmarks"
   ]
  },
  {
   "cell_type": "code",
   "execution_count": null,
   "metadata": {},
   "outputs": [],
   "source": [
    "# exec time"
   ]
  }
 ],
 "metadata": {
  "kernelspec": {
   "display_name": "AA",
   "language": "python",
   "name": "python3"
  },
  "language_info": {
   "codemirror_mode": {
    "name": "ipython",
    "version": 3
   },
   "file_extension": ".py",
   "mimetype": "text/x-python",
   "name": "python",
   "nbconvert_exporter": "python",
   "pygments_lexer": "ipython3",
   "version": "3.10.15"
  }
 },
 "nbformat": 4,
 "nbformat_minor": 2
}
