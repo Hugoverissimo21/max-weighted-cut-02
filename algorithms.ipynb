{
 "cells": [
  {
   "cell_type": "code",
   "execution_count": 25,
   "metadata": {},
   "outputs": [],
   "source": [
    "def read_graph_ELEARNING(filename):\n",
    "    graph = []\n",
    "    with open(filename, 'r') as file:\n",
    "        # Skip the first line\n",
    "        if \"gset\" in filename:\n",
    "            nodes, edges = file.readline().split()\n",
    "            nodes = int(nodes)\n",
    "            edges = int(edges)\n",
    "        else:\n",
    "            file.readline()\n",
    "            file.readline()\n",
    "            nodes = int(file.readline().split()[0])\n",
    "            edges = int(file.readline().split()[0])\n",
    "        for line in file:\n",
    "            # Split each line into components and convert to appropriate types\n",
    "            node1, node2, weight = line.split()\n",
    "            graph.append((int(node1)-1, int(node2)-1, float(weight)))\n",
    "    return graph, nodes, edges\n",
    "\n",
    "path = \"\"\"graphs (elearning)/SW10000EWD.txt\"\"\"\n",
    "path = \"\"\"graphs (gset)/G59.txt\"\"\"\n",
    "edges, n_nodes, n_edges = read_graph_ELEARNING(path)\n",
    "n_nodes, n_edges\n",
    "\n",
    "\n",
    "edges = [(0,1,5), (0,3,3), (1,3,4)]\n",
    "n_nodes = 4"
   ]
  },
  {
   "cell_type": "markdown",
   "metadata": {},
   "source": [
    "## algoritmo 1: random random\n",
    "\n",
    "gera `max_iters` soluções aleatórias; tlvz meter esse max para 2^n / qq coisa ?\n",
    "\n",
    "escrever complexidade em funcao do max iter, e se usar 2^n / qq coisa, assim posso reescrever com tudo, mas convem dizer q foi escolha minha mas o utilizador pode mudar"
   ]
  },
  {
   "cell_type": "code",
   "execution_count": 26,
   "metadata": {},
   "outputs": [
    {
     "data": {
      "text/plain": [
       "({0, 2, 3}, {1}, 9)"
      ]
     },
     "execution_count": 26,
     "metadata": {},
     "output_type": "execute_result"
    }
   ],
   "source": [
    "import random\n",
    "\n",
    "def max_weight_cut(edges, n_nodes, max_iters=10000):\n",
    "\n",
    "    best_solution = None\n",
    "    best_cut_weight = 0\n",
    "    seen_solutions = set()\n",
    "\n",
    "    for _ in range(max_iters):\n",
    "        # Generate a random candidate solution\n",
    "        partition = {node: random.choice([0, 1]) for node in range(n_nodes)}\n",
    "\n",
    "        # avoid calculating the same solution multiple times\n",
    "        partition_hash = frozenset(partition.items())\n",
    "        if partition_hash in seen_solutions:\n",
    "            continue\n",
    "\n",
    "        seen_solutions.add(partition_hash)\n",
    "        new_cut_weight = sum(weight for node1, node2, weight in edges if partition[node1] != partition[node2])\n",
    "        if new_cut_weight > best_cut_weight:\n",
    "            best_cut_weight = new_cut_weight\n",
    "            best_solution = partition.copy()\n",
    "\n",
    "\n",
    "    S = set([node for node, part in best_solution.items() if part == 0])\n",
    "    T = set(range(n_nodes)) - S\n",
    "    return S, T, best_cut_weight\n",
    "\n",
    "S, T, best_cut_weight = max_weight_cut(edges, n_nodes)\n",
    "S, T, best_cut_weight\n"
   ]
  },
  {
   "cell_type": "markdown",
   "metadata": {},
   "source": [
    "## algoritmo 2: simmulated annealing\n",
    "\n",
    "gera sol inicial, vai alterando os nós, se melhorar altera, se piorar altera com prob exponencial\n",
    "\n",
    "dps dizer q pode ser interessenta executar o algoritmo mais que uma vez para testar diferentes solucoes iniciais, pq têm um impacto na convergencia para a sol otima\n",
    "\n",
    "é altamente improvael o SA escolher duas vezes consecutivas o mesmo node em grafos grandes, ent n será relevante evitar \"solucoes\" repertidas"
   ]
  },
  {
   "cell_type": "code",
   "execution_count": 27,
   "metadata": {},
   "outputs": [
    {
     "data": {
      "text/plain": [
       "({0, 3}, {1, 2}, 9)"
      ]
     },
     "execution_count": 27,
     "metadata": {},
     "output_type": "execute_result"
    }
   ],
   "source": [
    "import random\n",
    "import math\n",
    "\n",
    "# MUDAR BEST COST PARA CUT\n",
    "\n",
    "def simulated_annealing_partition(edges, n_nodes, initial_temp=1000, cooling_rate=0.995, min_temp=1e-3):\n",
    "    # Step 1: Extract unique nodes\n",
    "    nodes = range(n_nodes)\n",
    "    \n",
    "    # Step 2: Initialize partitions randomly\n",
    "    partition = {node: random.choice([0, 1]) for node in nodes}\n",
    "    \n",
    "    # Initialize current cost\n",
    "    current_cost = sum(weight for node1, node2, weight in edges if partition[node1] != partition[node2])\n",
    "\n",
    "    temperature = initial_temp\n",
    "\n",
    "    best_partition = partition.copy()\n",
    "    best_cost = current_cost\n",
    "    while temperature > min_temp:\n",
    "        # Step 3: Randomly select a node to move to the opposite partition\n",
    "        node = random.choice(nodes)\n",
    "        partition[node] = 1 - partition[node]  # Flip partition\n",
    "        \n",
    "        # Calculate the new cost after swapping\n",
    "        new_cost = sum(weight for node1, node2, weight in edges if partition[node1] != partition[node2])\n",
    "        \n",
    "        # Step 4: Determine if we should accept the new solution\n",
    "        cost_diff = new_cost - current_cost\n",
    "        if cost_diff > 0 or random.random() < math.exp(cost_diff / temperature):\n",
    "            # Accept the move\n",
    "            current_cost = new_cost\n",
    "            # Update the best partition if new cost is lower\n",
    "            if new_cost > best_cost:\n",
    "                best_cost = new_cost\n",
    "                best_partition = partition.copy()\n",
    "        else:\n",
    "            # Reject the move (revert the change)\n",
    "            partition[node] = 1 - partition[node]\n",
    "        \n",
    "        # Step 5: Cool down the temperature\n",
    "        temperature *= cooling_rate\n",
    "    \n",
    "    S = set([node for node, part in best_partition.items() if part == 0])\n",
    "    T = set(range(n_nodes)) - S\n",
    "    return S, T, best_cost\n",
    "\n",
    "S, T, best_cost = simulated_annealing_partition(edges, n_nodes)\n",
    "S, T, best_cost"
   ]
  },
  {
   "cell_type": "markdown",
   "metadata": {},
   "source": [
    "## algoritmo 3: Random Greedy\n",
    "\n",
    "faz heuristicas (mandar para o outro lado o nó q melhora mais a sol otima) a partir de uma solucao inicial gerada aleatoriamente\n",
    "\n",
    "pode ser util gerar multiplas solucoes iniciais"
   ]
  },
  {
   "cell_type": "code",
   "execution_count": 28,
   "metadata": {},
   "outputs": [
    {
     "data": {
      "text/plain": [
       "({0, 3}, {1, 2}, 9)"
      ]
     },
     "execution_count": 28,
     "metadata": {},
     "output_type": "execute_result"
    }
   ],
   "source": [
    "import random\n",
    "\n",
    "def random_greedy(edges, n_nodes):\n",
    "    \"\"\"Performs Random Greedy optimization for the Max Weight Cut problem.\"\"\"\n",
    "\n",
    "    partition = {node: random.choice([0, 1]) for node in range(n_nodes)}\n",
    "    best_cut_weight = sum(weight for node1, node2, weight in edges if partition[node1] != partition[node2])\n",
    "\n",
    "    improved = True\n",
    "    while improved:\n",
    "        improved = False\n",
    "        for node in range(n_nodes):\n",
    "            # Flip the node to the other set\n",
    "            partition[node] = 1 - partition[node]  \n",
    "            new_cut_weight = sum(weight for node1, node2, weight in edges if partition[node1] != partition[node2])\n",
    "\n",
    "            # If this move improves the cut weight, keep it; otherwise, revert\n",
    "            if new_cut_weight > best_cut_weight:\n",
    "                best_cut_weight = new_cut_weight\n",
    "                improved = True  # Continue improving\n",
    "            else:\n",
    "                partition[node] = 1 - partition[node]  # Revert the change\n",
    "\n",
    "    S = set([node for node, part in partition.items() if part == 0])\n",
    "    T = set(range(n_nodes)) - S\n",
    "    return S, T, best_cut_weight\n",
    "\n",
    "S, T, best_cut_weight = random_greedy(edges, n_nodes)\n",
    "S, T, best_cut_weight"
   ]
  },
  {
   "cell_type": "markdown",
   "metadata": {},
   "source": [
    "## algoritmo 4: mix\n",
    "\n",
    "fazer um mix\n",
    "\n",
    "- ~~random faz varias escolhas iniciais~~\n",
    "\n",
    "- sa pega na melhor e go brrr ou até pode aplicar duas vezes\n",
    "\n",
    "- greedy parte dai e tenta a melhor"
   ]
  },
  {
   "cell_type": "code",
   "execution_count": 29,
   "metadata": {},
   "outputs": [
    {
     "data": {
      "text/plain": [
       "({1, 2}, {0, 3}, 9)"
      ]
     },
     "execution_count": 29,
     "metadata": {},
     "output_type": "execute_result"
    }
   ],
   "source": [
    "# ...\n",
    "\n",
    "import random\n",
    "import math\n",
    "\n",
    "def mixed_alg(edges, n_nodes, initial_temp=1000, cooling_rate=0.995, min_temp=1e-3):\n",
    "    \"\"\"Performs a mixed algorithm combining Random Greedy and Simulated Annealing.\"\"\"\n",
    "        \n",
    "    # PART 2: SIMULATED ANNEALING\n",
    "\n",
    "    nodes = range(n_nodes)\n",
    "    partition = partition = {node: random.choice([0, 1]) for node in range(n_nodes)}\n",
    "    \n",
    "    # Initialize current cost\n",
    "    current_cost = sum(weight for node1, node2, weight in edges if partition[node1] != partition[node2])\n",
    "\n",
    "    temperature = initial_temp\n",
    "\n",
    "    best_partition = partition.copy()\n",
    "    best_cost = current_cost\n",
    "    while temperature > min_temp:\n",
    "        # Step 3: Randomly select a node to move to the opposite partition\n",
    "        node = random.choice(nodes)\n",
    "        partition[node] = 1 - partition[node]  # Flip partition\n",
    "        \n",
    "        # Calculate the new cost after swapping\n",
    "        new_cost = sum(weight for node1, node2, weight in edges if partition[node1] != partition[node2])\n",
    "        \n",
    "        # Step 4: Determine if we should accept the new solution\n",
    "        cost_diff = new_cost - current_cost\n",
    "        if cost_diff > 0 or random.random() < math.exp(cost_diff / temperature):\n",
    "            # Accept the move\n",
    "            current_cost = new_cost\n",
    "            # Update the best partition if new cost is lower\n",
    "            if new_cost > best_cost:\n",
    "                best_cost = new_cost\n",
    "                best_partition = partition.copy()\n",
    "        else:\n",
    "            # Reject the move (revert the change)\n",
    "            partition[node] = 1 - partition[node]\n",
    "        \n",
    "        # Step 5: Cool down the temperature\n",
    "        temperature *= cooling_rate\n",
    "    \n",
    "\n",
    "    # PART 3: RANDOM GREEDY\n",
    "    partition = best_partition.copy()\n",
    "    best_cut_weight = best_cost\n",
    "\n",
    "    improved = True\n",
    "    while improved:\n",
    "        improved = False\n",
    "        for node in range(n_nodes): #tlvz fazer tipo so X nodes aleatorios tp ver 75% dos nodes idk\n",
    "            # Flip the node to the other set\n",
    "            partition[node] = 1 - partition[node]  \n",
    "            new_cut_weight = sum(weight for node1, node2, weight in edges if partition[node1] != partition[node2])\n",
    "\n",
    "            # If this move improves the cut weight, keep it; otherwise, revert\n",
    "            if new_cut_weight > best_cut_weight:\n",
    "                best_cut_weight = new_cut_weight\n",
    "                improved = True  # Continue improving\n",
    "            else:\n",
    "                partition[node] = 1 - partition[node]  # Revert the change\n",
    "\n",
    "    S = set([node for node, part in partition.items() if part == 0])\n",
    "    T = set(range(n_nodes)) - S\n",
    "    return S, T, best_cut_weight\n",
    "\n",
    "S, T, best_cut_weight = mixed_alg(edges, n_nodes)\n",
    "S, T, best_cut_weight"
   ]
  },
  {
   "cell_type": "code",
   "execution_count": null,
   "metadata": {},
   "outputs": [],
   "source": []
  }
 ],
 "metadata": {
  "kernelspec": {
   "display_name": "AA",
   "language": "python",
   "name": "python3"
  },
  "language_info": {
   "codemirror_mode": {
    "name": "ipython",
    "version": 3
   },
   "file_extension": ".py",
   "mimetype": "text/x-python",
   "name": "python",
   "nbconvert_exporter": "python",
   "pygments_lexer": "ipython3",
   "version": "3.10.15"
  }
 },
 "nbformat": 4,
 "nbformat_minor": 2
}
