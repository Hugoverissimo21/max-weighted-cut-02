{
 "cells": [
  {
   "cell_type": "markdown",
   "metadata": {},
   "source": [
    "# MERGE DF"
   ]
  },
  {
   "cell_type": "code",
   "execution_count": null,
   "metadata": {},
   "outputs": [],
   "source": [
    "import os\n",
    "import pandas as pd"
   ]
  },
  {
   "cell_type": "code",
   "execution_count": null,
   "metadata": {},
   "outputs": [],
   "source": [
    "datas = [x for x in os.listdir() if \"results_\" in x and \".xlsx\" in x]\n",
    "datas\n",
    "datas = [\"results v02.xlsx\", \"all_results.xlsx\"]\n",
    "datas = [\"results v03.xlsx\", \"results_1125205844.xlsx\"]\n",
    "datas = [\"results v04.xlsx\", \"results_1128130656.xlsx\"]\n",
    "datas = [\"results v05.xlsx\", \"results_1129231849.xlsx\", \"results_1129232646.xlsx\",\n",
    "         \"results_1129232703.xlsx\", \"results_1129233156.xlsx\"]\n",
    "datas = [\"results v06.xlsx\", \"results_1130091441.xlsx\", \"results_1130100911.xlsx\"]"
   ]
  },
  {
   "cell_type": "code",
   "execution_count": null,
   "metadata": {},
   "outputs": [],
   "source": [
    "dfs = []\n",
    "for data in datas:\n",
    "    dfs.append(pd.read_excel(data, index_col=0, header=[0,1]))\n",
    "\n",
    "all_data = pd.concat(dfs, ignore_index=True)\n",
    "all_data"
   ]
  },
  {
   "cell_type": "code",
   "execution_count": null,
   "metadata": {},
   "outputs": [],
   "source": [
    "all_data[all_data[(\"Graph\", \"name\")] == \"graphs/0004_250.graphml\"]"
   ]
  },
  {
   "cell_type": "code",
   "execution_count": null,
   "metadata": {},
   "outputs": [],
   "source": [
    "df = all_data.sort_values(by=(\"Graph\", \"name\"), ascending=True)\n",
    "df = df.reset_index(drop=True)\n",
    "df.to_excel(\"results v08.xlsx\")"
   ]
  },
  {
   "cell_type": "markdown",
   "metadata": {},
   "source": [
    "---\n",
    "---\n",
    "---"
   ]
  },
  {
   "cell_type": "markdown",
   "metadata": {},
   "source": [
    "# COMPUTE MEAN/MEDIAN"
   ]
  },
  {
   "cell_type": "code",
   "execution_count": null,
   "metadata": {},
   "outputs": [],
   "source": [
    "import pandas as pd\n",
    "import numpy as np\n",
    "\n",
    "df = pd.read_excel(\"results v08.xlsx\", index_col=0, header=[0,1])\n",
    "df"
   ]
  },
  {
   "cell_type": "code",
   "execution_count": null,
   "metadata": {},
   "outputs": [],
   "source": [
    "new_df = {}\n",
    "for column in df.columns:\n",
    "    new_df[column] = [np.nan] * len(df[(\"Graph\", \"name\")].unique())\n",
    "\n",
    "line = -1\n",
    "for graph in df[(\"Graph\", \"name\")].unique():\n",
    "    line += 1\n",
    "    df_graph = df[df[(\"Graph\", \"name\")] == graph]\n",
    "    for h1, h2 in df.columns:\n",
    "        if h1 == \"Graph\":\n",
    "            new_df[(h1, h2)][line] = df_graph[(h1, h2)].iloc[0]\n",
    "        elif h2 == \"time\":\n",
    "            new_df[(h1, h2)][line] = np.nanmedian(df_graph[(h1, h2)])\n",
    "        else:\n",
    "            new_df[(h1, h2)][line] = np.nanmean(df_graph[(h1, h2)])\n",
    "\n",
    "new_df = pd.DataFrame(new_df)\n",
    "\n",
    "new_df.to_excel(\"results.xlsx\")\n",
    "new_df.info()"
   ]
  }
 ],
 "metadata": {
  "kernelspec": {
   "display_name": "AA",
   "language": "python",
   "name": "python3"
  },
  "language_info": {
   "codemirror_mode": {
    "name": "ipython",
    "version": 3
   },
   "file_extension": ".py",
   "mimetype": "text/x-python",
   "name": "python",
   "nbconvert_exporter": "python",
   "pygments_lexer": "ipython3",
   "version": "3.10.15"
  }
 },
 "nbformat": 4,
 "nbformat_minor": 2
}
