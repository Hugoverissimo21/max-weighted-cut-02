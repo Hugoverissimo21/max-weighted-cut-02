{
 "cells": [
  {
   "cell_type": "markdown",
   "metadata": {},
   "source": [
    "**dúvidas:**\n",
    "\n",
    "- devemos escrever a complexidade de acordo com os parametro como `max_iter`?\n",
    "\n",
    "    - se sim, depois nos gráficos também o variamos ou usamos um fixo?\n",
    "\n",
    "    - ou será q devo escolher o max_iter de acordo com o número de vértices e assim posso reescrever?\n",
    "\n",
    "- os três algoritmos que fiz chegam?\n",
    "    \n",
    "---\n",
    "\n",
    "...\n",
    "\n",
    "---\n",
    "---\n",
    "\n",
    "urls for large graphs\n",
    "\n",
    "- https://snap.stanford.edu/data/\n",
    "\n",
    "- https://data.mendeley.com/datasets/rr5bkj6dw5/3\n",
    "\n",
    "\n",
    "---\n",
    "---\n",
    "\n",
    "- ~~Design and test randomized algorithms to solve the combinatorial problem that was assigned to you in the first project.~~\n",
    "\n",
    "    - ~~You can both generate candidate solutions randomly and combine some degree of randomness with appropriate heuristics.~~\n",
    "\n",
    "    - ~~Iterating through the generated candidate solutions and keeping the best feasible solution computed.~~\n",
    "\n",
    "    - ~~Ensuring that no such solutions are tested more than once.~~\n",
    "\n",
    "    - ~~Deciding when to stop testing candidate solutions of a certain size and start testing larger or smaller solutions, if that makes sense for your problem.~~\n",
    "\n",
    "    - ~~Deciding when to stop testing altogether: e.g., after a given number of candidate solutions, or after spending a certain amount of computation time, etc.~~\n",
    "\n",
    "~~- Graphs for the Computational Experiments: mine and elearnig and gset~~\n",
    "\n",
    "~~- Performance Analysis~~\n",
    "\n",
    "~~- convem correr pelo menos 5 vezes cada um, por causa dos tempos e das solucoes aleatorias~~\n",
    "\n",
    "~~- complexity analysis~~\n",
    "\n",
    "~~- (1) the number of basic operations carried out, (2) the execution time and (3) the number of solutions / configurations tested (4) precision~~\n",
    "\n",
    "~~- Compare the results of the experimental and the formal analysis.~~\n",
    "\n",
    "~~- Estimate the execution time that would be required by much larger problem instances.~~\n",
    "\n",
    "~~- Determine the largest graph that you can process on your computer, without taking too much time.~~\n"
   ]
  },
  {
   "cell_type": "markdown",
   "metadata": {},
   "source": []
  }
 ],
 "metadata": {
  "language_info": {
   "name": "python"
  }
 },
 "nbformat": 4,
 "nbformat_minor": 2
}
